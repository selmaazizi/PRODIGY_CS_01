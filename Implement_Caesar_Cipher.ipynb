{
  "nbformat": 4,
  "nbformat_minor": 0,
  "metadata": {
    "colab": {
      "provenance": [],
      "include_colab_link": true
    },
    "kernelspec": {
      "name": "python3",
      "display_name": "Python 3"
    },
    "language_info": {
      "name": "python"
    }
  },
  "cells": [
    {
      "cell_type": "markdown",
      "metadata": {
        "id": "view-in-github",
        "colab_type": "text"
      },
      "source": [
        "<a href=\"https://colab.research.google.com/github/selmaazizi/PRODIGY_CS_01/blob/main/Implement_Caesar_Cipher.ipynb\" target=\"_parent\"><img src=\"https://colab.research.google.com/assets/colab-badge.svg\" alt=\"Open In Colab\"/></a>"
      ]
    },
    {
      "cell_type": "code",
      "execution_count": null,
      "metadata": {
        "colab": {
          "base_uri": "https://localhost:8080/"
        },
        "id": "9caYvmgvmA1-",
        "outputId": "7434b183-8ffb-4edb-b10d-665633e94ef2"
      },
      "outputs": [
        {
          "output_type": "stream",
          "name": "stdout",
          "text": [
            "Enter mode (encrypt/decrypt): encrypt \n",
            "Enter text: selma\n",
            "Enter shift value: 3 \n",
            "Result: vhopd\n"
          ]
        }
      ],
      "source": [
        "def caesar_cipher(text, shift, mode='encrypt'):\n",
        "    result = \"\"\n",
        "\n",
        "    if mode == 'decrypt':\n",
        "        shift = -shift\n",
        "\n",
        "    for char in text:\n",
        "        if char.isalpha():\n",
        "            shift_base = ord('A') if char.isupper() else ord('a')\n",
        "            result += chr((ord(char) - shift_base + shift) % 26 + shift_base)\n",
        "        else:\n",
        "            result += char\n",
        "\n",
        "    return result\n",
        "\n",
        "if __name__ == \"__main__\":\n",
        "    mode = input(\"Enter mode (encrypt/decrypt): \").strip().lower()\n",
        "    text = input(\"Enter text: \")\n",
        "    shift = int(input(\"Enter shift value: \"))\n",
        "\n",
        "    output = caesar_cipher(text, shift, mode)\n",
        "    print(f\"Result: {output}\")\n"
      ]
    }
  ]
}